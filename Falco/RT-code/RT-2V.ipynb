{
 "cells": [
  {
   "cell_type": "code",
   "execution_count": 1,
   "id": "8f994a01",
   "metadata": {},
   "outputs": [],
   "source": [
    "import matplotlib.pyplot as plt\n",
    "from scipy.optimize import curve_fit\n",
    "import numpy as np\n",
    "import math\n",
    "import similaritymeasures"
   ]
  },
  {
   "cell_type": "code",
   "execution_count": 2,
   "id": "9a6ef135",
   "metadata": {},
   "outputs": [],
   "source": [
    "#define the transmission curve\n",
    "\n",
    "def Tsymthru(wavelength, neff, abscoef_power, r, radius):\n",
    "    phase=4*math.pi**2*radius*neff/wavelength\n",
    "    round_trip_loss_field=np.exp(-(abscoef_power*2*math.pi*radius)/2)\n",
    "    Numer=round_trip_loss_field**2-2*round_trip_loss_field*r*np.cos(phase)+r**2\n",
    "    Denom=1-2*r*round_trip_loss_field*np.cos(phase)+(r*round_trip_loss_field)**2\n",
    "    return Numer/Denom\n",
    "def dB2Frac(dB):\n",
    "    return 10**(dB/10)"
   ]
  },
  {
   "cell_type": "code",
   "execution_count": 3,
   "id": "e81971ae",
   "metadata": {},
   "outputs": [],
   "source": [
    "def similarity(x,exp_y,fit_y):\n",
    "    exp_data = np.zeros((len(x), 2))\n",
    "    exp_data[:, 0] = x\n",
    "    exp_data[:, 1] = exp_y\n",
    "    num_data = np.zeros((len(x), 2))\n",
    "    num_data[:, 0] = x\n",
    "    num_data[:, 1] = fit_y\n",
    "    pcm = similaritymeasures.pcm(exp_data, num_data)\n",
    "    df = similaritymeasures.frechet_dist(exp_data, num_data)\n",
    "    area = similaritymeasures.area_between_two_curves(exp_data, num_data)\n",
    "    cl = similaritymeasures.curve_length_measure(exp_data, num_data)\n",
    "    dtw, d = similaritymeasures.dtw(exp_data, num_data)\n",
    "    mae = similaritymeasures.mae(exp_data, num_data)\n",
    "    mse = similaritymeasures.mse(exp_data, num_data)\n",
    "    return pcm, df, area, cl, dtw, mae, mse"
   ]
  },
  {
   "cell_type": "code",
   "execution_count": 4,
   "id": "3dbd8056",
   "metadata": {},
   "outputs": [],
   "source": [
    "#extract the data\n",
    "\n",
    "Vn2_T= np.loadtxt(\"RT-Transmission-Data/-2V-RT-Data.csv\", delimiter=\",\")\n",
    "x = Vn2_T[:,0] \n",
    "y = Vn2_T[:,1]"
   ]
  },
  {
   "cell_type": "code",
   "execution_count": 5,
   "id": "fa5fca39",
   "metadata": {},
   "outputs": [
    {
     "name": "stdout",
     "output_type": "stream",
     "text": [
      "[0.99482535 0.99154717 0.98412831 0.97244324 0.96846634 0.95788571\n",
      " 0.95119729 0.94397043 0.9358805  0.9223671  0.90354169 0.88478436\n",
      " 0.86156825 0.83319049 0.80019589 0.76621635 0.73082883 0.69204484\n",
      " 0.65641125 0.62162968 0.5787693  0.53472039 0.47975767 0.43915775\n",
      " 0.37627879 0.30818314 0.24671752 0.18895114 0.14394004 0.09868812\n",
      " 0.06257101 0.03850977 0.0352979  0.05723385 0.10046874 0.16156431\n",
      " 0.2075673  0.27511692 0.33895198 0.3881884  0.43564287 0.48557117\n",
      " 0.53724448 0.5846768  0.63358601 0.68650434 0.72620177 0.75719858\n",
      " 0.78240507 0.80319384 0.82107169 0.8443875  0.85739356 0.87153034\n",
      " 0.87701295 0.88339589]\n"
     ]
    }
   ],
   "source": [
    "#check for an weird points\n",
    "\n",
    "print(y)"
   ]
  },
  {
   "cell_type": "code",
   "execution_count": 6,
   "id": "ea7d37e0",
   "metadata": {},
   "outputs": [
    {
     "data": {
      "image/png": "[encoded data removed]",
      "text/plain": [
       "<Figure size 432x288 with 1 Axes>"
      ]
     },
     "metadata": {
      "needs_background": "light"
     },
     "output_type": "display_data"
    }
   ],
   "source": [
    "plt.plot(x, y, 'ro', label='data')\n",
    "#plt.plot(x, ydata, 'b-', label='data')\n",
    "plt.show()"
   ]
  },
  {
   "cell_type": "code",
   "execution_count": 7,
   "id": "0ca1f5e0",
   "metadata": {},
   "outputs": [],
   "source": [
    "#define the radius and r values\n",
    "\n",
    "def Guess(wavelength,neff, abscoef_power):\n",
    "    return Tsymthru(wavelength, neff, abscoef_power, 0.987, 10e-6)"
   ]
  },
  {
   "cell_type": "code",
   "execution_count": 8,
   "id": "d4502e1d",
   "metadata": {},
   "outputs": [
    {
     "data": {
      "image/png": "[encoded data removed]",
      "text/plain": [
       "<Figure size 432x288 with 1 Axes>"
      ]
     },
     "metadata": {
      "needs_background": "light"
     },
     "output_type": "display_data"
    }
   ],
   "source": [
    "#plot a guess to make sure the neff value works\n",
    "new_x = np.linspace(1540, 1550, 100)\n",
    "ans = Guess(x*1e-9,2.16715, 280)\n",
    "\n",
    "plt.plot(x, y, 'o', color ='red', label =\"data\")\n",
    "plt.plot(x, ans, '--', color ='blue', label =\"optimized data\")\n",
    "plt.legend()\n",
    "plt.savefig(\"fitdata.png\")\n",
    "plt.show()"
   ]
  },
  {
   "cell_type": "code",
   "execution_count": 9,
   "id": "1d7c8815",
   "metadata": {},
   "outputs": [
    {
     "name": "stdout",
     "output_type": "stream",
     "text": [
      "[[  2.16724674 300.89280916]\n",
      " [  2.16724674 300.89284112]\n",
      " [  2.16724674 300.89284112]\n",
      " [  2.16724674 300.89284112]\n",
      " [  2.16724674 300.89284112]\n",
      " [  2.16724674 300.89284112]\n",
      " [  2.16724674 300.89284112]\n",
      " [  2.16724674 300.89284112]\n",
      " [  2.16724674 300.89284112]\n",
      " [  2.16724674 300.89284112]\n",
      " [  2.16724674 300.89284112]\n",
      " [  2.16724674 300.89284112]\n",
      " [  2.16724674 300.89284112]\n",
      " [  2.16724674 300.89284112]\n",
      " [  2.16724674 300.89284112]\n",
      " [  2.16724674 300.89284112]\n",
      " [  2.16724674 300.89284112]\n",
      " [  2.16724674 300.89284112]\n",
      " [  2.16724674 300.89284112]\n",
      " [  2.16724674 300.89284112]\n",
      " [  2.16724674 300.89284112]\n",
      " [  2.16724674 300.89284112]\n",
      " [  2.16724674 300.89284112]\n",
      " [  2.16724674 300.89284112]\n",
      " [  2.16724674 300.89284112]\n",
      " [  2.16724674 300.89284112]\n",
      " [  2.16724674 300.89284112]\n",
      " [  2.16724674 300.89284112]\n",
      " [  2.16724674 300.89284112]\n",
      " [  2.16724674 300.89284112]\n",
      " [  2.16724674 300.89284112]\n",
      " [  2.16724674 300.89284112]\n",
      " [  2.16724674 300.89284112]\n",
      " [  2.16724674 300.89284112]\n",
      " [  2.16724674 300.89284112]\n",
      " [  2.16724674 300.89284112]\n",
      " [  2.16724674 300.89284112]\n",
      " [  2.16724674 300.89284112]\n",
      " [  2.16724674 300.89284112]\n",
      " [  2.16724674 300.89284112]\n",
      " [  2.16724674 300.89284112]\n",
      " [  2.16724674 300.89284112]\n",
      " [  2.16724674 300.89284112]\n",
      " [  2.16724674 300.89284112]\n",
      " [  2.16724674 300.89284112]\n",
      " [  2.16724674 300.89284112]\n",
      " [  2.16724674 300.89284112]\n",
      " [  2.16724674 300.89284112]\n",
      " [  2.16724674 300.89284112]\n",
      " [  2.16724674 300.89284112]\n",
      " [  2.16724674 300.89284112]\n",
      " [  2.16724674 300.89284112]\n",
      " [  2.16724674 300.89284112]\n",
      " [  2.16724674 300.89284112]\n",
      " [  2.16724674 300.89284112]\n",
      " [  2.16724674 300.89284112]]\n"
     ]
    }
   ],
   "source": [
    "fit_params_arr=np.zeros([len(y)+1,2])\n",
    "fit_params_arr[0]=[2.16715, 280]\n",
    "for i in range(len(y)):\n",
    "    fit_params_arr[i],fit_cov_arr=curve_fit(Guess,x*1e-9,y,p0=fit_params_arr[i])\n",
    "    fit_params_arr[i+1]=fit_params_arr[i]\n",
    "fit_params_arr=fit_params_arr[:-1]\n",
    "\n",
    "print(fit_params_arr)"
   ]
  },
  {
   "cell_type": "code",
   "execution_count": 10,
   "id": "4c425a77",
   "metadata": {},
   "outputs": [],
   "source": [
    "fit_ans = Guess(x*1e-9,fit_params_arr[:,0], fit_params_arr[:,1])"
   ]
  },
  {
   "cell_type": "code",
   "execution_count": 11,
   "id": "b23b540c",
   "metadata": {},
   "outputs": [
    {
     "data": {
      "image/png": "[encoded data removed]",
      "text/plain": [
       "<Figure size 432x288 with 1 Axes>"
      ]
     },
     "metadata": {
      "needs_background": "light"
     },
     "output_type": "display_data"
    },
    {
     "name": "stdout",
     "output_type": "stream",
     "text": [
      "(0.4315742651390636, 0.051944828007133736, 0.008627766710716855, 0.44851299436394415, 0.993140221868422, 0.009705118058991791, 0.00030004681639911004)\n"
     ]
    }
   ],
   "source": [
    "plt.plot(x, y, '--', color ='red', label =\"data\")\n",
    "plt.plot(x, fit_ans, '--', color ='blue', label =\"optimized data\")\n",
    "plt.legend()\n",
    "plt.savefig(\"fitdata.png\")\n",
    "plt.show()\n",
    "print(similarity(x,y,fit_ans))"
   ]
  },
  {
   "cell_type": "code",
   "execution_count": 13,
   "id": "4ddfa441",
   "metadata": {},
   "outputs": [
    {
     "name": "stdout",
     "output_type": "stream",
     "text": [
      "[305.60371394   0.98734376]\n"
     ]
    },
    {
     "data": {
      "image/png": "[encoded data removed]",
      "text/plain": [
       "<Figure size 432x288 with 1 Axes>"
      ]
     },
     "metadata": {
      "needs_background": "light"
     },
     "output_type": "display_data"
    },
    {
     "name": "stdout",
     "output_type": "stream",
     "text": [
      "(0.4353380989035619, 0.05135654284843505, 0.008653307248863484, 0.45778963488208024, 0.9785068838376291, 0.009740331539961357, 0.0002974317944217095)\n"
     ]
    }
   ],
   "source": [
    "#lets try fitting the r and coeff values\n",
    "\n",
    "def Guess2(wavelength, abscoef_power, r):\n",
    "    return Tsymthru(wavelength, 2.16724673, abscoef_power, r, 10e-6)\n",
    "\n",
    "fit_params_arr=np.zeros([len(y)+1,2])\n",
    "fit_params_arr[0]=[300, 0.987]\n",
    "for i in range(len(y)):\n",
    "    fit_params_arr[i],fit_cov_arr=curve_fit(Guess2,x*1e-9,y,p0=fit_params_arr[i])\n",
    "    fit_params_arr[i+1]=fit_params_arr[i]\n",
    "fit_params_arr=fit_params_arr[:-1]\n",
    "\n",
    "print(fit_params_arr[10])\n",
    "\n",
    "fit_ans = Guess2(x*1e-9,fit_params_arr[:,0], fit_params_arr[:,1])\n",
    "plt.plot(x, y, '--', color ='red', label =\"data\")\n",
    "plt.plot(x, fit_ans, '--', color ='blue', label =\"optimized data\")\n",
    "plt.legend()\n",
    "plt.savefig(\"fitdata.png\")\n",
    "plt.show()\n",
    "print(similarity(x,y,fit_ans))"
   ]
  },
  {
   "cell_type": "code",
   "execution_count": 14,
   "id": "bed69812",
   "metadata": {},
   "outputs": [
    {
     "name": "stdout",
     "output_type": "stream",
     "text": [
      "(0.0, 0.0, 2.9984903449076228e-12, 0.0, 0.0, 0.0, 0.0)\n"
     ]
    }
   ],
   "source": [
    "print(similarity(x,y,y))"
   ]
  },
  {
   "cell_type": "code",
   "execution_count": null,
   "id": "ef9203bc",
   "metadata": {},
   "outputs": [],
   "source": []
  }
 ],
 "metadata": {
  "kernelspec": {
   "display_name": "Python 3 (ipykernel)",
   "language": "python",
   "name": "python3"
  },
  "language_info": {
   "codemirror_mode": {
    "name": "ipython",
    "version": 3
   },
   "file_extension": ".py",
   "mimetype": "text/x-python",
   "name": "python",
   "nbconvert_exporter": "python",
   "pygments_lexer": "ipython3",
   "version": "3.11.5"
  }
 },
 "nbformat": 4,
 "nbformat_minor": 5
}
